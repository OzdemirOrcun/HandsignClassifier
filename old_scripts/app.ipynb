{
 "cells": [
  {
   "cell_type": "code",
   "execution_count": 6,
   "source": [
    "from transformers import AutoImageProcessor, TFResNetModel,  TFResNetForImageClassification\n",
    "from datasets import load_dataset\n",
    "import tensorflow as tf\n",
    "\n",
    "dataset = load_dataset(\"huggingface/cats-image\")\n",
    "image = dataset[\"test\"][\"image\"][0]\n",
    "\n",
    "image_processor = AutoImageProcessor.from_pretrained(\"microsoft/resnet-50\")\n",
    "model = TFResNetModel.from_pretrained(\"microsoft/resnet-50\")\n",
    "\n",
    "inputs = image_processor(image, return_tensors=\"tf\")\n",
    "outputs = model(**inputs)\n",
    "\n",
    "last_hidden_states = outputs.last_hidden_state\n",
    "print(list(last_hidden_states.shape))\n",
    "\n",
    "model_classifier = TFResNetForImageClassification.from_pretrained(\"microsoft/resnet-50\")\n",
    "\n",
    "logits = model_classifier(**inputs).logits\n",
    "\n",
    "# model predicts one of the 1000 ImageNet classes\n",
    "predicted_label = int(tf.math.argmax(logits, axis=-1))\n",
    "print(model_classifier.config.id2label[predicted_label])"
   ],
   "outputs": [
    {
     "output_type": "stream",
     "name": "stderr",
     "text": [
      "No config specified, defaulting to: cats-image/image\n",
      "Found cached dataset cats-image (/Users/osorcunozdemir/.cache/huggingface/datasets/huggingface___cats-image/image/1.9.0/68fbc793fb10cd165e490867f5d61fa366086ea40c73e549a020103dcb4f597e)\n",
      "100%|██████████| 1/1 [00:00<00:00, 435.73it/s]\n",
      "Could not find image processor class in the image processor config or the model config. Loading based on pattern matching with the model's feature extractor configuration.\n",
      "Some layers from the model checkpoint at microsoft/resnet-50 were not used when initializing TFResNetModel: ['classifier.1']\n",
      "- This IS expected if you are initializing TFResNetModel from the checkpoint of a model trained on another task or with another architecture (e.g. initializing a BertForSequenceClassification model from a BertForPreTraining model).\n",
      "- This IS NOT expected if you are initializing TFResNetModel from the checkpoint of a model that you expect to be exactly identical (initializing a BertForSequenceClassification model from a BertForSequenceClassification model).\n",
      "All the layers of TFResNetModel were initialized from the model checkpoint at microsoft/resnet-50.\n",
      "If your task is similar to the task the model of the checkpoint was trained on, you can already use TFResNetModel for predictions without further training.\n"
     ]
    },
    {
     "output_type": "stream",
     "name": "stdout",
     "text": [
      "[1, 2048, 7, 7]\n"
     ]
    },
    {
     "output_type": "stream",
     "name": "stderr",
     "text": [
      "All model checkpoint layers were used when initializing TFResNetForImageClassification.\n",
      "\n",
      "All the layers of TFResNetForImageClassification were initialized from the model checkpoint at microsoft/resnet-50.\n",
      "If your task is similar to the task the model of the checkpoint was trained on, you can already use TFResNetForImageClassification for predictions without further training.\n"
     ]
    },
    {
     "output_type": "stream",
     "name": "stdout",
     "text": [
      "tiger cat\n"
     ]
    }
   ],
   "metadata": {}
  },
  {
   "cell_type": "code",
   "execution_count": 11,
   "source": [
    "dataset"
   ],
   "outputs": [
    {
     "output_type": "execute_result",
     "data": {
      "text/plain": [
       "DatasetDict({\n",
       "    test: Dataset({\n",
       "        features: ['image'],\n",
       "        num_rows: 1\n",
       "    })\n",
       "})"
      ]
     },
     "metadata": {},
     "execution_count": 11
    }
   ],
   "metadata": {}
  },
  {
   "cell_type": "code",
   "execution_count": 3,
   "source": [
    "import numpy as np\n",
    "import tensorflow as tf\n",
    "from tensorflow import keras\n",
    "from sklearn.model_selection import train_test_split\n",
    "\n",
    "# Loading train and test datasets\n",
    "with np.load('./input/train_data_label.npz') as data:\n",
    "    train_data = data['train_data']\n",
    "    train_label = data['train_label']\n",
    "    \n",
    "with np.load('./input/test_data_label.npz') as data:\n",
    "    test_data = data['test_data']\n",
    "    test_label = data['test_label']\n",
    "\n",
    "\n",
    "train_data, val_data, train_label, val_label = train_test_split(\n",
    "    train_data, train_label, test_size=0.20, random_state=54020)\n",
    "\n"
   ],
   "outputs": [],
   "metadata": {}
  },
  {
   "cell_type": "code",
   "execution_count": 6,
   "source": [
    "len(train_data)"
   ],
   "outputs": [
    {
     "output_type": "execute_result",
     "data": {
      "text/plain": [
       "21964"
      ]
     },
     "metadata": {},
     "execution_count": 6
    }
   ],
   "metadata": {}
  },
  {
   "cell_type": "code",
   "execution_count": 7,
   "source": [
    "len(train_label)"
   ],
   "outputs": [
    {
     "output_type": "execute_result",
     "data": {
      "text/plain": [
       "21964"
      ]
     },
     "metadata": {},
     "execution_count": 7
    }
   ],
   "metadata": {}
  },
  {
   "cell_type": "code",
   "execution_count": 8,
   "source": [
    "train_label[0]"
   ],
   "outputs": [
    {
     "output_type": "execute_result",
     "data": {
      "text/plain": [
       "17"
      ]
     },
     "metadata": {},
     "execution_count": 8
    }
   ],
   "metadata": {}
  },
  {
   "cell_type": "code",
   "execution_count": 13,
   "source": [
    "\n",
    "## Convolutional Neural Network\n",
    "print(\"Convolutional Neural Network Part Initiated.\")\n",
    "print(\"\\n\")\n",
    "\n",
    "import tensorflow as tf\n",
    "np.random.seed(1)\n",
    "tf.random.set_seed(2)\n",
    "\n",
    "from keras import datasets, layers, models\n",
    "from keras.layers import Dense,Flatten,Conv2D,MaxPool2D,Dropout\n",
    "from keras.models import Sequential\n",
    "import matplotlib.pyplot as plt\n",
    "\n",
    "\n",
    "# Reshaping data for CNN\n",
    "\n",
    "reshaped_train_data = np.array([np.reshape(i, (28, 28)) for i in train_data])\n",
    "reshaped_test_data = np.array([np.reshape(i, (28, 28)) for i in test_data])\n",
    "reshaped_val_data = np.array([np.reshape(i, (28, 28)) for i in val_data])\n",
    "\n",
    "# Building CNN model\n",
    "\n",
    "model = models.Sequential()\n",
    "model.add(layers.Conv2D(28, (3, 3), activation='relu', input_shape=(28, 28, 1)))\n",
    "model.add(layers.MaxPooling2D((2, 2)))\n",
    "model.add(layers.Conv2D(64, (3, 3), activation='relu'))\n",
    "model.add(layers.MaxPooling2D((2, 2)))\n",
    "model.add(Dropout(rate=0.3))\n",
    "model.add(layers.Conv2D(64, (3, 3), activation='relu'))\n",
    "model.add(layers.MaxPooling2D((2, 2)))\n",
    "model.add(layers.Flatten())\n",
    "model.add(layers.Dense(256, activation='relu'))\n",
    "model.add(Dropout(rate=0.3))\n",
    "model.add(layers.Dense(25, activation = 'softmax'))\n",
    "\n",
    "print(model.summary())\n",
    "\n"
   ],
   "outputs": [
    {
     "output_type": "stream",
     "name": "stdout",
     "text": [
      "Convolutional Neural Network Part Initiated.\n",
      "\n",
      "\n",
      "Model: \"sequential\"\n",
      "_________________________________________________________________\n",
      " Layer (type)                Output Shape              Param #   \n",
      "=================================================================\n",
      " conv2d (Conv2D)             (None, 26, 26, 28)        280       \n",
      "                                                                 \n",
      " max_pooling2d (MaxPooling2D  (None, 13, 13, 28)       0         \n",
      " )                                                               \n",
      "                                                                 \n",
      " conv2d_1 (Conv2D)           (None, 11, 11, 64)        16192     \n",
      "                                                                 \n",
      " max_pooling2d_1 (MaxPooling  (None, 5, 5, 64)         0         \n",
      " 2D)                                                             \n",
      "                                                                 \n",
      " dropout (Dropout)           (None, 5, 5, 64)          0         \n",
      "                                                                 \n",
      " conv2d_2 (Conv2D)           (None, 3, 3, 64)          36928     \n",
      "                                                                 \n",
      " max_pooling2d_2 (MaxPooling  (None, 1, 1, 64)         0         \n",
      " 2D)                                                             \n",
      "                                                                 \n",
      " flatten_9 (Flatten)         (None, 64)                0         \n",
      "                                                                 \n",
      " dense (Dense)               (None, 256)               16640     \n",
      "                                                                 \n",
      " dropout_1 (Dropout)         (None, 256)               0         \n",
      "                                                                 \n",
      " dense_1 (Dense)             (None, 25)                6425      \n",
      "                                                                 \n",
      "=================================================================\n",
      "Total params: 76,465\n",
      "Trainable params: 76,465\n",
      "Non-trainable params: 0\n",
      "_________________________________________________________________\n",
      "None\n"
     ]
    }
   ],
   "metadata": {}
  },
  {
   "cell_type": "code",
   "execution_count": 14,
   "source": [
    "from time import time\n",
    "\n",
    "# Hyperparameter tuning\n",
    "\n",
    "print(\"Hyperparameter Tuning\")\n",
    "print(\"\\n\")\n",
    "\n",
    "learning_rate_reduction = tf.keras.callbacks.ReduceLROnPlateau(\n",
    "    monitor='val_accuracy', patience = 2, verbose=1,factor=0.5, min_lr=0.00001\n",
    ")\n",
    "\n",
    "model.compile(optimizer='adam',\n",
    "              loss=tf.keras.losses.SparseCategoricalCrossentropy(from_logits=True),\n",
    "              metrics=['accuracy'])\n",
    "\n",
    "start = time()\n",
    "history = model.fit(reshaped_train_data, train_label, epochs=15, batch_size = 100,   \n",
    "                    validation_data=(reshaped_val_data, val_label),callbacks=[\n",
    "                                               tf.keras.callbacks.EarlyStopping(\n",
    "                                                   monitor='val_loss',\n",
    "                                                   patience=3,\n",
    "                                                   restore_best_weights=True\n",
    "                                                   ),learning_rate_reduction])\n",
    "\n",
    "print(f'Time taken to run: {time() - start} seconds')\n"
   ],
   "outputs": [
    {
     "output_type": "stream",
     "name": "stdout",
     "text": [
      "Hyperparameter Tuning\n",
      "\n",
      "\n",
      "Epoch 1/15\n"
     ]
    },
    {
     "output_type": "stream",
     "name": "stderr",
     "text": [
      "/opt/anaconda3/lib/python3.8/site-packages/tensorflow/python/util/dispatch.py:1082: UserWarning: \"`sparse_categorical_crossentropy` received `from_logits=True`, but the `output` argument was produced by a sigmoid or softmax activation and thus does not represent logits. Was this intended?\"\n",
      "  return dispatch_target(*args, **kwargs)\n"
     ]
    },
    {
     "output_type": "stream",
     "name": "stdout",
     "text": [
      "220/220 [==============================] - 10s 42ms/step - loss: 3.0051 - accuracy: 0.2442 - val_loss: 1.0814 - val_accuracy: 0.6833 - lr: 0.0010\n",
      "Epoch 2/15\n",
      "220/220 [==============================] - 9s 41ms/step - loss: 1.0379 - accuracy: 0.6502 - val_loss: 0.3559 - val_accuracy: 0.9102 - lr: 0.0010\n",
      "Epoch 3/15\n",
      "220/220 [==============================] - 9s 41ms/step - loss: 0.5675 - accuracy: 0.8096 - val_loss: 0.1722 - val_accuracy: 0.9590 - lr: 0.0010\n",
      "Epoch 4/15\n",
      "220/220 [==============================] - 10s 44ms/step - loss: 0.3335 - accuracy: 0.8863 - val_loss: 0.0545 - val_accuracy: 0.9905 - lr: 0.0010\n",
      "Epoch 5/15\n",
      "220/220 [==============================] - 10s 44ms/step - loss: 0.2289 - accuracy: 0.9240 - val_loss: 0.0246 - val_accuracy: 0.9951 - lr: 0.0010\n",
      "Epoch 6/15\n",
      "220/220 [==============================] - 9s 41ms/step - loss: 0.1608 - accuracy: 0.9486 - val_loss: 0.0238 - val_accuracy: 0.9960 - lr: 0.0010\n",
      "Epoch 7/15\n",
      "220/220 [==============================] - 9s 42ms/step - loss: 0.1180 - accuracy: 0.9619 - val_loss: 0.0105 - val_accuracy: 0.9982 - lr: 0.0010\n",
      "Epoch 8/15\n",
      "220/220 [==============================] - 9s 41ms/step - loss: 0.0909 - accuracy: 0.9701 - val_loss: 0.0067 - val_accuracy: 0.9989 - lr: 0.0010\n",
      "Epoch 9/15\n",
      "220/220 [==============================] - 9s 42ms/step - loss: 0.0825 - accuracy: 0.9736 - val_loss: 0.0036 - val_accuracy: 0.9998 - lr: 0.0010\n",
      "Epoch 10/15\n",
      "220/220 [==============================] - 9s 42ms/step - loss: 0.0716 - accuracy: 0.9771 - val_loss: 0.0041 - val_accuracy: 0.9998 - lr: 0.0010\n",
      "Epoch 11/15\n",
      "220/220 [==============================] - 9s 41ms/step - loss: 0.0536 - accuracy: 0.9827 - val_loss: 0.0010 - val_accuracy: 1.0000 - lr: 0.0010\n",
      "Epoch 12/15\n",
      "220/220 [==============================] - 10s 43ms/step - loss: 0.0525 - accuracy: 0.9831 - val_loss: 0.0012 - val_accuracy: 1.0000 - lr: 0.0010\n",
      "Epoch 13/15\n",
      "219/220 [============================>.] - ETA: 0s - loss: 0.0544 - accuracy: 0.9829\n",
      "Epoch 13: ReduceLROnPlateau reducing learning rate to 0.0005000000237487257.\n",
      "220/220 [==============================] - 10s 44ms/step - loss: 0.0542 - accuracy: 0.9830 - val_loss: 0.0074 - val_accuracy: 0.9982 - lr: 0.0010\n",
      "Epoch 14/15\n",
      "220/220 [==============================] - 10s 45ms/step - loss: 0.0289 - accuracy: 0.9913 - val_loss: 4.9131e-04 - val_accuracy: 1.0000 - lr: 5.0000e-04\n",
      "Epoch 15/15\n",
      "220/220 [==============================] - ETA: 0s - loss: 0.0229 - accuracy: 0.9926\n",
      "Epoch 15: ReduceLROnPlateau reducing learning rate to 0.0002500000118743628.\n",
      "220/220 [==============================] - 10s 44ms/step - loss: 0.0229 - accuracy: 0.9926 - val_loss: 6.3596e-04 - val_accuracy: 1.0000 - lr: 5.0000e-04\n",
      "Time taken to run: 141.5971119403839 seconds\n"
     ]
    }
   ],
   "metadata": {}
  },
  {
   "cell_type": "code",
   "execution_count": 15,
   "source": [
    "\n",
    "# Plotting validation accuracy\n",
    "\n",
    "#print(\"Plotting validation accuracy\")\n",
    "\n",
    "plt.rcParams[\"figure.figsize\"] = (5,5)\n",
    "plt.plot(history.history['accuracy'], label='accuracy')\n",
    "plt.plot(history.history['val_accuracy'], label = 'val_accuracy')\n",
    "plt.xlabel('Epoch')\n",
    "plt.ylabel('Accuracy')\n",
    "plt.ylim([0.05,1.05])\n",
    "plt.legend(loc='lower right')\n",
    "#plt.show()\n",
    "\n",
    "\n"
   ],
   "outputs": [
    {
     "output_type": "execute_result",
     "data": {
      "text/plain": [
       "<matplotlib.legend.Legend at 0x7fa789c0a220>"
      ]
     },
     "metadata": {},
     "execution_count": 15
    },
    {
     "output_type": "display_data",
     "data": {
      "image/png": "[encoded data removed]",
      "text/plain": [
       "<Figure size 432x288 with 1 Axes>"
      ]
     },
     "metadata": {
      "needs_background": "light"
     }
    }
   ],
   "metadata": {}
  },
  {
   "cell_type": "code",
   "execution_count": 16,
   "source": [
    "from sklearn.metrics import f1_score\n",
    "\n",
    "print(\"Test Loss and Test Accuracy: \")\n",
    "test_loss, test_acc = model.evaluate(reshaped_test_data,  test_label, verbose=2)\n",
    "print(test_loss,test_acc)\n",
    "\n",
    "print(\"\\n\")\n",
    "\n",
    "predicted_test_labels = [np.argmax(i) for i in model.predict(reshaped_test_data)]\n",
    "\n",
    "\n",
    "# Accuracy of model on unseen data\n",
    "print(\"Accuracy of model on unseen data\")\n",
    "print(f1_score(test_label, predicted_test_labels, average='weighted'))\n"
   ],
   "outputs": [
    {
     "output_type": "stream",
     "name": "stdout",
     "text": [
      "Test Loss and Test Accuracy: \n",
      "225/225 - 1s - loss: 0.1691 - accuracy: 0.9590 - 914ms/epoch - 4ms/step\n",
      "0.16914354264736176 0.9590072631835938\n",
      "\n",
      "\n",
      "Accuracy of model on unseen data\n",
      "0.9597111576692066\n"
     ]
    }
   ],
   "metadata": {}
  },
  {
   "cell_type": "code",
   "execution_count": 19,
   "source": [
    "\n",
    "import pandas as pd\n",
    "from sklearn.metrics import confusion_matrix, ConfusionMatrixDisplay, classification_report, precision_recall_fscore_support\n",
    "import matplotlib.pyplot as plt\n",
    "\n",
    "\n",
    "# Generating the confusion matrix (two of them for different uses, one array, and one dataframe).\n",
    "\n",
    "print(\"Generating the confusion matrix (two of them for different uses, one array, and one dataframe).\")\n",
    "\n",
    "cm = confusion_matrix(test_label, predicted_test_labels, labels=np.unique(test_label))\n",
    "cm_dataframe = pd.DataFrame(cm, index=np.unique(test_label), columns=np.unique(test_label))\n",
    "cm_dataframe.set_index(cm_dataframe.index.map(lambda x: chr(int(x+97))), inplace=True)\n",
    "cm_dataframe.rename(columns=lambda x: chr(x+97), inplace=True)\n",
    "#print(cm_dataframe)\n",
    "\n",
    "print(\"\\n\")\n",
    "\n",
    "# Generating pretty graph for the confusion matrix. Teacher from practicals said it was pretty and good idea to include in report.\n",
    "\n",
    "#print(\"Generating pretty graph for the confusion matrix. Teacher from practicals said it was pretty and good idea to include in report.\")\n",
    "disp = ConfusionMatrixDisplay(confusion_matrix=cm, display_labels=cm_dataframe.index)\n",
    "plt.rcParams[\"figure.figsize\"] = (10,10)\n",
    "disp.plot()\n",
    "#plt.show()\n",
    "print(\"\\n\")\n",
    "\n",
    "# Metrics.\n",
    "class_report = classification_report(test_label, predicted_test_labels, target_names=cm_dataframe.index)\n",
    "#print(class_report)\n",
    "\n",
    "print(\"\\n\")\n",
    "\n"
   ],
   "outputs": [
    {
     "output_type": "stream",
     "name": "stdout",
     "text": [
      "Generating the confusion matrix (two of them for different uses, one array, and one dataframe).\n",
      "\n",
      "\n",
      "\n",
      "\n",
      "\n",
      "\n"
     ]
    },
    {
     "output_type": "display_data",
     "data": {
      "image/png": "[encoded data removed]",
      "text/plain": [
       "<Figure size 720x720 with 2 Axes>"
      ]
     },
     "metadata": {
      "needs_background": "light"
     }
    }
   ],
   "metadata": {}
  },
  {
   "cell_type": "code",
   "execution_count": 20,
   "source": [
    "\n",
    "# Easiest letters to classify (by bests F1 score).\n",
    "print(\"Easiest letters to classify (by bests F1 score).\")\n",
    "precision, recall, fscore, support = precision_recall_fscore_support(test_label, predicted_test_labels)\n",
    "per_class_metrics = pd.DataFrame({'Letter':cm_dataframe.index, 'Precision':precision.round(2), 'Recall':recall.round(2), 'F1 score':fscore.round(2)})\n",
    "per_class_metrics.set_index('Letter', inplace=True)\n",
    "per_class_metrics.sort_values(by='F1 score', ascending=False, inplace=True)\n",
    "print(per_class_metrics.head())\n",
    "\n",
    "print(\"\\n\")\n",
    "\n",
    "# Hardest letters to classify (by worsts F1 score).\n",
    "print(\"Hardest letters to classify (by worsts F1 score).\")\n",
    "per_class_metrics.sort_values(by='F1 score', ascending=True, inplace=True)\n",
    "print(per_class_metrics.head())\n",
    "\n",
    "print(\"\\n\")"
   ],
   "outputs": [
    {
     "output_type": "stream",
     "name": "stdout",
     "text": [
      "Easiest letters to classify (by bests F1 score).\n",
      "        Precision  Recall  F1 score\n",
      "Letter                             \n",
      "a            1.00     1.0      1.00\n",
      "p            0.99     1.0      1.00\n",
      "f            1.00     1.0      1.00\n",
      "l            1.00     1.0      1.00\n",
      "i            0.98     1.0      0.99\n",
      "\n",
      "\n",
      "Hardest letters to classify (by worsts F1 score).\n",
      "        Precision  Recall  F1 score\n",
      "Letter                             \n",
      "r            0.58    0.71      0.64\n",
      "u            0.86    0.92      0.89\n",
      "g            0.94    0.87      0.90\n",
      "q            0.85    1.00      0.92\n",
      "v            1.00    0.87      0.93\n",
      "\n",
      "\n"
     ]
    }
   ],
   "metadata": {}
  },
  {
   "cell_type": "code",
   "execution_count": null,
   "source": [],
   "outputs": [],
   "metadata": {}
  }
 ],
 "metadata": {
  "orig_nbformat": 4,
  "language_info": {
   "name": "python",
   "version": "3.8.8",
   "mimetype": "text/x-python",
   "codemirror_mode": {
    "name": "ipython",
    "version": 3
   },
   "pygments_lexer": "ipython3",
   "nbconvert_exporter": "python",
   "file_extension": ".py"
  },
  "kernelspec": {
   "name": "python3",
   "display_name": "Python 3.8.8 64-bit ('base': conda)"
  },
  "interpreter": {
   "hash": "dca0ade3e726a953b501b15e8e990130d2b7799f14cfd9f4271676035ebe5511"
  }
 },
 "nbformat": 4,
 "nbformat_minor": 2
}